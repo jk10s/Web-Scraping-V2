{
 "cells": [
  {
   "cell_type": "code",
   "execution_count": null,
   "id": "bb9451e0",
   "metadata": {},
   "outputs": [],
   "source": [
    "from selenium import webdriver\n",
    "from selenium.webdriver.chrome.service import Service\n",
    "import time\n",
    "\n",
    "path = ''  # Introduce your chromedriver path here\n",
    "website = \"https://web.whatsapp.com/\"\n",
    "phone_number = \"\"  # Write a phone number here\n",
    "photo_path = \"\"  # introduce your photo path here\n",
    "\n",
    "service = Service(executable_path=path)\n",
    "driver = webdriver.Chrome(service=service)\n",
    "driver.get(website)\n",
    "driver.maximize_window()\n",
    "time.sleep(30)  # scan QR code (we don't need to wait that much when we connect to an existing browser)\n",
    "\n",
    "search_phone = driver.find_element(by='xpath', value='//div[@title=\"Search input textbox\"]')\n",
    "search_phone.send_keys(phone_number)\n",
    "time.sleep(2)\n",
    "\n",
    "contacts = driver.find_elements(by='xpath', value='//div[@aria-label=\"Search results.\"]//div[@data-testid=\"cell-frame-container\"]')\n",
    "contacts[-1].click()  # picks last element in the list (this one represents first in the whatsapp search list)\n",
    "time.sleep(2)\n",
    "\n",
    "# upload and send photo\n",
    "attach_button = driver.find_element(by='xpath', value='//span[@data-testid=\"clip\"]')\n",
    "attach_button.click()\n",
    "time.sleep(2)\n",
    "\n",
    "# when inspecting choose the element containing the word \"input\" so you can send keys with the path of the photo\n",
    "attach_image_input = driver.find_element(by='xpath', value='//input[@accept=\"image/*,video/mp4,video/3gpp,video/quicktime\"]')\n",
    "attach_image_input.send_keys(photo_path)\n",
    "time.sleep(2)\n",
    "\n",
    "send_image_button = driver.find_element(by='xpath', value='//div[@data-testid=\"drawer-middle\"]//span[@data-testid=\"send\"]')\n",
    "send_image_button.click()\n",
    "time.sleep(5)  # wait till the message is delivered\n",
    "\n",
    "driver.quit()"
   ]
  },
  {
   "cell_type": "code",
   "execution_count": null,
   "id": "360db112",
   "metadata": {},
   "outputs": [],
   "source": []
  }
 ],
 "metadata": {
  "kernelspec": {
   "display_name": "Python 3 (ipykernel)",
   "language": "python",
   "name": "python3"
  },
  "language_info": {
   "codemirror_mode": {
    "name": "ipython",
    "version": 3
   },
   "file_extension": ".py",
   "mimetype": "text/x-python",
   "name": "python",
   "nbconvert_exporter": "python",
   "pygments_lexer": "ipython3",
   "version": "3.9.12"
  }
 },
 "nbformat": 4,
 "nbformat_minor": 5
}
