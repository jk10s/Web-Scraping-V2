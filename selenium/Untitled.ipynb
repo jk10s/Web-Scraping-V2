{
 "cells": [
  {
   "cell_type": "code",
   "execution_count": 1,
   "id": "69ba1dae",
   "metadata": {},
   "outputs": [
    {
     "name": "stderr",
     "output_type": "stream",
     "text": [
      "/tmp/ipykernel_36957/833850716.py:5: DeprecationWarning: executable_path has been deprecated, please pass in a Service object\n",
      "  driver = webdriver.Chrome('chromedriver_linux64/chromedriver' )\n"
     ]
    },
    {
     "ename": "AttributeError",
     "evalue": "'WebDriver' object has no attribute 'find_element_by_id'",
     "output_type": "error",
     "traceback": [
      "\u001b[0;31m---------------------------------------------------------------------------\u001b[0m",
      "\u001b[0;31mAttributeError\u001b[0m                            Traceback (most recent call last)",
      "Input \u001b[0;32mIn [1]\u001b[0m, in \u001b[0;36m<cell line: 11>\u001b[0;34m()\u001b[0m\n\u001b[1;32m      8\u001b[0m driver\u001b[38;5;241m.\u001b[39mget(\u001b[38;5;124m'\u001b[39m\u001b[38;5;124mhttps://accounts.google.com/signin/v2/identifier?service=mail&passive=true&rm=false&continue=https\u001b[39m\u001b[38;5;124m%\u001b[39m\u001b[38;5;124m3A\u001b[39m\u001b[38;5;132;01m%2F\u001b[39;00m\u001b[38;5;132;01m%2F\u001b[39;00m\u001b[38;5;124mmail.google.com\u001b[39m\u001b[38;5;132;01m%2F\u001b[39;00m\u001b[38;5;124mmail\u001b[39m\u001b[38;5;132;01m%2F\u001b[39;00m\u001b[38;5;124m&ss=1&scc=1&ltmpl=default&ltmplcache=2&emr=1&osid=1&flowName=GlifWebSignIn&flowEntry=ServiceLogin\u001b[39m\u001b[38;5;124m'\u001b[39m)\n\u001b[1;32m     10\u001b[0m \u001b[38;5;66;03m# Encontrar el elemento de inicio de sesión y enviar el correo electrónico\u001b[39;00m\n\u001b[0;32m---> 11\u001b[0m email_elem \u001b[38;5;241m=\u001b[39m \u001b[43mdriver\u001b[49m\u001b[38;5;241;43m.\u001b[39;49m\u001b[43mfind_element_by_id\u001b[49m(\u001b[38;5;124m'\u001b[39m\u001b[38;5;124midentifierId\u001b[39m\u001b[38;5;124m'\u001b[39m)\n\u001b[1;32m     12\u001b[0m email_elem\u001b[38;5;241m.\u001b[39msend_keys(\u001b[38;5;124m'\u001b[39m\u001b[38;5;124myour.email@gmail.com\u001b[39m\u001b[38;5;124m'\u001b[39m)\n\u001b[1;32m     13\u001b[0m email_elem\u001b[38;5;241m.\u001b[39msubmit()\n",
      "\u001b[0;31mAttributeError\u001b[0m: 'WebDriver' object has no attribute 'find_element_by_id'"
     ]
    }
   ],
   "source": [
    "# Importar los módulos necesarios\n",
    "from selenium import webdriver\n",
    "\n",
    "# Inicializar el navegador\n",
    "driver = webdriver.Chrome('chromedriver_linux64/chromedriver' )\n",
    "\n",
    "# Abrir la página de inicio de sesión de Gmail\n",
    "driver.get('https://accounts.google.com/signin/v2/identifier?service=mail&passive=true&rm=false&continue=https%3A%2F%2Fmail.google.com%2Fmail%2F&ss=1&scc=1&ltmpl=default&ltmplcache=2&emr=1&osid=1&flowName=GlifWebSignIn&flowEntry=ServiceLogin')\n",
    "\n",
    "# Encontrar el elemento de inicio de sesión y enviar el correo electrónico\n",
    "email_elem = driver.find_element_by_id('identifierId')\n",
    "email_elem.send_keys('your.email@gmail.com')\n",
    "email_elem.submit()\n",
    "\n",
    "# Encontrar el elemento de contraseña y enviar la contraseña\n",
    "password_elem = driver.find_element_by_name('password')\n",
    "password_elem.send_keys('yourpassword')\n",
    "password_elem.submit()\n",
    "\n",
    "# Cerrar el navegador\n",
    "driver.quit()"
   ]
  },
  {
   "cell_type": "code",
   "execution_count": null,
   "id": "847485c7",
   "metadata": {},
   "outputs": [],
   "source": []
  }
 ],
 "metadata": {
  "kernelspec": {
   "display_name": "Python 3 (ipykernel)",
   "language": "python",
   "name": "python3"
  },
  "language_info": {
   "codemirror_mode": {
    "name": "ipython",
    "version": 3
   },
   "file_extension": ".py",
   "mimetype": "text/x-python",
   "name": "python",
   "nbconvert_exporter": "python",
   "pygments_lexer": "ipython3",
   "version": "3.9.12"
  }
 },
 "nbformat": 4,
 "nbformat_minor": 5
}
