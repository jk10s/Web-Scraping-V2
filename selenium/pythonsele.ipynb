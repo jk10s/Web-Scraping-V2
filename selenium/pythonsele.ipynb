{
 "cells": [
  {
   "cell_type": "code",
   "execution_count": 28,
   "id": "d8a91465",
   "metadata": {},
   "outputs": [],
   "source": [
    "from selenium import webdriver\n",
    "from selenium.webdriver.common.keys import Keys\n",
    "import time\n"
   ]
  },
  {
   "cell_type": "code",
   "execution_count": 29,
   "id": "f9f9515f",
   "metadata": {},
   "outputs": [],
   "source": [
    "# Start a webdriver instance and navigate to the login page\n",
    "\n",
    "website = 'https://betplay.com.co/'\n",
    "path = 'chromedriver_linux64/chromedriver' \n",
    "\n",
    "\n"
   ]
  },
  {
   "cell_type": "code",
   "execution_count": 30,
   "id": "0d01d763",
   "metadata": {},
   "outputs": [
    {
     "name": "stderr",
     "output_type": "stream",
     "text": [
      "/tmp/ipykernel_7359/423848753.py:2: DeprecationWarning: executable_path has been deprecated, please pass in a Service object\n",
      "  driver = webdriver.Chrome(path)\n"
     ]
    },
    {
     "ename": "AttributeError",
     "evalue": "'WebDriver' object has no attribute 'find_element_by_id'",
     "output_type": "error",
     "traceback": [
      "\u001b[0;31m---------------------------------------------------------------------------\u001b[0m",
      "\u001b[0;31mAttributeError\u001b[0m                            Traceback (most recent call last)",
      "Input \u001b[0;32mIn [30]\u001b[0m, in \u001b[0;36m<cell line: 6>\u001b[0;34m()\u001b[0m\n\u001b[1;32m      4\u001b[0m driver\u001b[38;5;241m.\u001b[39mget(website)\n\u001b[1;32m      5\u001b[0m time\u001b[38;5;241m.\u001b[39msleep(\u001b[38;5;241m20\u001b[39m)\n\u001b[0;32m----> 6\u001b[0m \u001b[43mdriver\u001b[49m\u001b[38;5;241;43m.\u001b[39;49m\u001b[43mfind_element_by_id\u001b[49m(\u001b[38;5;124m\"\u001b[39m\u001b[38;5;124mdropdownLogin\u001b[39m\u001b[38;5;124m\"\u001b[39m)\u001b[38;5;241m.\u001b[39mclick()\n",
      "\u001b[0;31mAttributeError\u001b[0m: 'WebDriver' object has no attribute 'find_element_by_id'"
     ]
    }
   ],
   "source": [
    "\n",
    "# define 'driver' variable\n",
    "driver = webdriver.Chrome(path)\n",
    "# open Google Chrome with chromedriver\n",
    "driver.get(website)\n",
    "time.sleep(20)\n",
    "driver.find_element_by_id(\"dropdownLogin\").click()\n"
   ]
  },
  {
   "cell_type": "code",
   "execution_count": null,
   "id": "b32cb355",
   "metadata": {},
   "outputs": [],
   "source": [
    "username_field = driver.find_element_by_id(\"username\")\n"
   ]
  },
  {
   "cell_type": "code",
   "execution_count": null,
   "id": "5416542f",
   "metadata": {},
   "outputs": [],
   "source": [
    "# Find the login form elements\n",
    "username_input = driver.find_element_by_id('username')\n",
    "password_input = driver.find_element_by_id('password')\n",
    "login_button = driver.find_element_by_css_selector('button[type=\"submit\"]')\n",
    "\n",
    "# Enter the login credentials and submit the form\n",
    "username_input.send_keys('your_username')\n",
    "password_input.send_keys('your_password')\n",
    "login_button.click()\n",
    "\n",
    "# You are now logged in!"
   ]
  }
 ],
 "metadata": {
  "kernelspec": {
   "display_name": "Python 3 (ipykernel)",
   "language": "python",
   "name": "python3"
  },
  "language_info": {
   "codemirror_mode": {
    "name": "ipython",
    "version": 3
   },
   "file_extension": ".py",
   "mimetype": "text/x-python",
   "name": "python",
   "nbconvert_exporter": "python",
   "pygments_lexer": "ipython3",
   "version": "3.9.12"
  }
 },
 "nbformat": 4,
 "nbformat_minor": 5
}
