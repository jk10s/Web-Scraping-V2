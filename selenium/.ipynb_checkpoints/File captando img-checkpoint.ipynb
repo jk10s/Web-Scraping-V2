{
 "cells": [
  {
   "cell_type": "code",
   "execution_count": 1,
   "id": "d2509c4b",
   "metadata": {},
   "outputs": [],
   "source": [
    "from selenium import webdriver\n"
   ]
  },
  {
   "cell_type": "code",
   "execution_count": 2,
   "id": "fe38c3f1",
   "metadata": {},
   "outputs": [],
   "source": [
    "website = 'https://www.googleadservices.com/pagead/aclk?sa=L&ai=DChcSEwjJz5LXmar8AhVBoYYKHShUA5UYABAAGgJ2dQ&ohost=www.google.com&cid=CAESbOD2yaIwIhw_UtXZTEzYPeyXCwSDXg8dmzGjh0eF4InNBdCxpBPvI0VcCISXj_bGvnXahtqmBmiqeSETdqCuxK1AbjXEeNli8h-dF2qvEuOIBgGvU1-A8l72hh0k4-okH4IRkPCjCySDaHqUbQ&sig=AOD64_1Sl3yJjrFyu4kDDxsNU9dTX7ECyg&q&adurl&ved=2ahUKEwiU0Y3Xmar8AhUai7AFHbgrD1cQ0Qx6BAgIEAE'\n",
    "path = 'chromedriver_linux64/chromedriver' "
   ]
  },
  {
   "cell_type": "code",
   "execution_count": 3,
   "id": "4a1169a9",
   "metadata": {},
   "outputs": [
    {
     "name": "stderr",
     "output_type": "stream",
     "text": [
      "/tmp/ipykernel_8886/4010693560.py:2: DeprecationWarning: executable_path has been deprecated, please pass in a Service object\n",
      "  driver = webdriver.Chrome(path)\n"
     ]
    }
   ],
   "source": [
    "# define 'driver' variable\n",
    "driver = webdriver.Chrome(path)\n",
    "# open Google Chrome with chromedriver\n",
    "driver.get(website)"
   ]
  },
  {
   "cell_type": "code",
   "execution_count": null,
   "id": "c97ea408",
   "metadata": {},
   "outputs": [],
   "source": [
    "document.querySelector(\"#dropdownLogin\")\n",
    "/html/body/app-root/mat-drawer-container/mat-drawer-content/div/app-header/header/div/div[3]/div/div[1]/button\n",
    "/html/body/app-root/mat-drawer-container/mat-drawer-content/div/app-header/header/div/div[3]/div/div[1]/button"
   ]
  },
  {
   "cell_type": "code",
   "execution_count": 22,
   "id": "8ed0bcad",
   "metadata": {},
   "outputs": [
    {
     "ename": "AttributeError",
     "evalue": "'WebDriver' object has no attribute 'find_element_by_xpath'",
     "output_type": "error",
     "traceback": [
      "\u001b[0;31m---------------------------------------------------------------------------\u001b[0m",
      "\u001b[0;31mAttributeError\u001b[0m                            Traceback (most recent call last)",
      "Input \u001b[0;32mIn [22]\u001b[0m, in \u001b[0;36m<cell line: 2>\u001b[0;34m()\u001b[0m\n\u001b[1;32m      1\u001b[0m \u001b[38;5;66;03m# locate a button\u001b[39;00m\n\u001b[0;32m----> 2\u001b[0m all_matches_button \u001b[38;5;241m=\u001b[39m \u001b[43mdriver\u001b[49m\u001b[38;5;241;43m.\u001b[39;49m\u001b[43mfind_element_by_xpath\u001b[49m(\u001b[38;5;124m'\u001b[39m\u001b[38;5;124m#dropdownLogin\u001b[39m\u001b[38;5;124m'\u001b[39m)\n\u001b[1;32m      3\u001b[0m \u001b[38;5;66;03m# click on a button\u001b[39;00m\n\u001b[1;32m      4\u001b[0m all_matches_button\u001b[38;5;241m.\u001b[39mclick()\n",
      "\u001b[0;31mAttributeError\u001b[0m: 'WebDriver' object has no attribute 'find_element_by_xpath'"
     ]
    }
   ],
   "source": [
    "# locate a button\n",
    "all_matches_button = driver.find_element_by_xpath('//button[@analytics-event=\"All matches\"]')\n",
    "# click on a button\n",
    "all_matches_button.click()"
   ]
  },
  {
   "cell_type": "code",
   "execution_count": null,
   "id": "1c9f051b",
   "metadata": {},
   "outputs": [],
   "source": []
  }
 ],
 "metadata": {
  "kernelspec": {
   "display_name": "Python 3 (ipykernel)",
   "language": "python",
   "name": "python3"
  },
  "language_info": {
   "codemirror_mode": {
    "name": "ipython",
    "version": 3
   },
   "file_extension": ".py",
   "mimetype": "text/x-python",
   "name": "python",
   "nbconvert_exporter": "python",
   "pygments_lexer": "ipython3",
   "version": "3.9.12"
  }
 },
 "nbformat": 4,
 "nbformat_minor": 5
}
