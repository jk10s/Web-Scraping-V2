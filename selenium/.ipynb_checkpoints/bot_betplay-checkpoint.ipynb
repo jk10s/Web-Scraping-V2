{
 "cells": [
  {
   "cell_type": "code",
   "execution_count": 70,
   "id": "5a3876c0",
   "metadata": {},
   "outputs": [],
   "source": [
    "from selenium import webdriver\n",
    "from selenium.webdriver.common.by import By\n",
    "from selenium.webdriver.common.keys import Keys\n",
    "import time\n",
    "website = 'https://betplay.com.co/'\n",
    "path = 'chromedriver_linux64/chromedriver' "
   ]
  },
  {
   "cell_type": "code",
   "execution_count": 71,
   "id": "b72ce1b8",
   "metadata": {},
   "outputs": [
    {
     "name": "stderr",
     "output_type": "stream",
     "text": [
      "/tmp/ipykernel_25215/2475095652.py:2: DeprecationWarning: executable_path has been deprecated, please pass in a Service object\n",
      "  driver = webdriver.Chrome(path)\n"
     ]
    },
    {
     "ename": "NoSuchElementException",
     "evalue": "Message: no such element: Unable to locate element: {\"method\":\"css selector\",\"selector\":\".dropdown-toggle button\"}\n  (Session info: chrome=108.0.5359.124)\nStacktrace:\n#0 0x55e3a21452a3 <unknown>\n#1 0x55e3a1f03f77 <unknown>\n#2 0x55e3a1f4080c <unknown>\n#3 0x55e3a1f40a71 <unknown>\n#4 0x55e3a1f7a734 <unknown>\n#5 0x55e3a1f60b5d <unknown>\n#6 0x55e3a1f7847c <unknown>\n#7 0x55e3a1f60903 <unknown>\n#8 0x55e3a1f33ece <unknown>\n#9 0x55e3a1f34fde <unknown>\n#10 0x55e3a219563e <unknown>\n#11 0x55e3a2198b79 <unknown>\n#12 0x55e3a217b89e <unknown>\n#13 0x55e3a2199a83 <unknown>\n#14 0x55e3a216e505 <unknown>\n#15 0x55e3a21baca8 <unknown>\n#16 0x55e3a21bae36 <unknown>\n#17 0x55e3a21d6333 <unknown>\n#18 0x7f9521f7a609 start_thread\n",
     "output_type": "error",
     "traceback": [
      "\u001b[0;31m---------------------------------------------------------------------------\u001b[0m",
      "\u001b[0;31mNoSuchElementException\u001b[0m                    Traceback (most recent call last)",
      "Input \u001b[0;32mIn [71]\u001b[0m, in \u001b[0;36m<cell line: 28>\u001b[0;34m()\u001b[0m\n\u001b[1;32m     25\u001b[0m \u001b[38;5;66;03m# Navigate to YouTube\u001b[39;00m\n\u001b[1;32m     26\u001b[0m driver\u001b[38;5;241m.\u001b[39mget(\u001b[38;5;124m'\u001b[39m\u001b[38;5;124mhttps://betplay.com.co/slots/launchGame?gameCode=SPB_aviator&flashClient=true&additionalParam=&integrationChannelCode=PARIPLAY\u001b[39m\u001b[38;5;124m'\u001b[39m)\n\u001b[0;32m---> 28\u001b[0m btnnum \u001b[38;5;241m=\u001b[39m \u001b[43mdriver\u001b[49m\u001b[38;5;241;43m.\u001b[39;49m\u001b[43mfind_element\u001b[49m\u001b[43m(\u001b[49m\u001b[43mBy\u001b[49m\u001b[38;5;241;43m.\u001b[39;49m\u001b[43mCLASS_NAME\u001b[49m\u001b[43m,\u001b[49m\u001b[38;5;124;43m\"\u001b[39;49m\u001b[38;5;124;43mdropdown-toggle button\u001b[39;49m\u001b[38;5;124;43m\"\u001b[39;49m\u001b[43m)\u001b[49m\u001b[38;5;241m.\u001b[39mclick()\n",
      "File \u001b[0;32m~/anaconda3/lib/python3.9/site-packages/selenium/webdriver/remote/webdriver.py:861\u001b[0m, in \u001b[0;36mWebDriver.find_element\u001b[0;34m(self, by, value)\u001b[0m\n\u001b[1;32m    858\u001b[0m     by \u001b[38;5;241m=\u001b[39m By\u001b[38;5;241m.\u001b[39mCSS_SELECTOR\n\u001b[1;32m    859\u001b[0m     value \u001b[38;5;241m=\u001b[39m \u001b[38;5;124m'\u001b[39m\u001b[38;5;124m[name=\u001b[39m\u001b[38;5;124m\"\u001b[39m\u001b[38;5;132;01m%s\u001b[39;00m\u001b[38;5;124m\"\u001b[39m\u001b[38;5;124m]\u001b[39m\u001b[38;5;124m'\u001b[39m \u001b[38;5;241m%\u001b[39m value\n\u001b[0;32m--> 861\u001b[0m \u001b[38;5;28;01mreturn\u001b[39;00m \u001b[38;5;28;43mself\u001b[39;49m\u001b[38;5;241;43m.\u001b[39;49m\u001b[43mexecute\u001b[49m\u001b[43m(\u001b[49m\u001b[43mCommand\u001b[49m\u001b[38;5;241;43m.\u001b[39;49m\u001b[43mFIND_ELEMENT\u001b[49m\u001b[43m,\u001b[49m\u001b[43m \u001b[49m\u001b[43m{\u001b[49m\u001b[38;5;124;43m\"\u001b[39;49m\u001b[38;5;124;43musing\u001b[39;49m\u001b[38;5;124;43m\"\u001b[39;49m\u001b[43m:\u001b[49m\u001b[43m \u001b[49m\u001b[43mby\u001b[49m\u001b[43m,\u001b[49m\u001b[43m \u001b[49m\u001b[38;5;124;43m\"\u001b[39;49m\u001b[38;5;124;43mvalue\u001b[39;49m\u001b[38;5;124;43m\"\u001b[39;49m\u001b[43m:\u001b[49m\u001b[43m \u001b[49m\u001b[43mvalue\u001b[49m\u001b[43m}\u001b[49m\u001b[43m)\u001b[49m[\u001b[38;5;124m\"\u001b[39m\u001b[38;5;124mvalue\u001b[39m\u001b[38;5;124m\"\u001b[39m]\n",
      "File \u001b[0;32m~/anaconda3/lib/python3.9/site-packages/selenium/webdriver/remote/webdriver.py:444\u001b[0m, in \u001b[0;36mWebDriver.execute\u001b[0;34m(self, driver_command, params)\u001b[0m\n\u001b[1;32m    442\u001b[0m response \u001b[38;5;241m=\u001b[39m \u001b[38;5;28mself\u001b[39m\u001b[38;5;241m.\u001b[39mcommand_executor\u001b[38;5;241m.\u001b[39mexecute(driver_command, params)\n\u001b[1;32m    443\u001b[0m \u001b[38;5;28;01mif\u001b[39;00m response:\n\u001b[0;32m--> 444\u001b[0m     \u001b[38;5;28;43mself\u001b[39;49m\u001b[38;5;241;43m.\u001b[39;49m\u001b[43merror_handler\u001b[49m\u001b[38;5;241;43m.\u001b[39;49m\u001b[43mcheck_response\u001b[49m\u001b[43m(\u001b[49m\u001b[43mresponse\u001b[49m\u001b[43m)\u001b[49m\n\u001b[1;32m    445\u001b[0m     response[\u001b[38;5;124m\"\u001b[39m\u001b[38;5;124mvalue\u001b[39m\u001b[38;5;124m\"\u001b[39m] \u001b[38;5;241m=\u001b[39m \u001b[38;5;28mself\u001b[39m\u001b[38;5;241m.\u001b[39m_unwrap_value(response\u001b[38;5;241m.\u001b[39mget(\u001b[38;5;124m\"\u001b[39m\u001b[38;5;124mvalue\u001b[39m\u001b[38;5;124m\"\u001b[39m, \u001b[38;5;28;01mNone\u001b[39;00m))\n\u001b[1;32m    446\u001b[0m     \u001b[38;5;28;01mreturn\u001b[39;00m response\n",
      "File \u001b[0;32m~/anaconda3/lib/python3.9/site-packages/selenium/webdriver/remote/errorhandler.py:249\u001b[0m, in \u001b[0;36mErrorHandler.check_response\u001b[0;34m(self, response)\u001b[0m\n\u001b[1;32m    247\u001b[0m         alert_text \u001b[38;5;241m=\u001b[39m value[\u001b[38;5;124m\"\u001b[39m\u001b[38;5;124malert\u001b[39m\u001b[38;5;124m\"\u001b[39m]\u001b[38;5;241m.\u001b[39mget(\u001b[38;5;124m\"\u001b[39m\u001b[38;5;124mtext\u001b[39m\u001b[38;5;124m\"\u001b[39m)\n\u001b[1;32m    248\u001b[0m     \u001b[38;5;28;01mraise\u001b[39;00m exception_class(message, screen, stacktrace, alert_text)  \u001b[38;5;66;03m# type: ignore[call-arg]  # mypy is not smart enough here\u001b[39;00m\n\u001b[0;32m--> 249\u001b[0m \u001b[38;5;28;01mraise\u001b[39;00m exception_class(message, screen, stacktrace)\n",
      "\u001b[0;31mNoSuchElementException\u001b[0m: Message: no such element: Unable to locate element: {\"method\":\"css selector\",\"selector\":\".dropdown-toggle button\"}\n  (Session info: chrome=108.0.5359.124)\nStacktrace:\n#0 0x55e3a21452a3 <unknown>\n#1 0x55e3a1f03f77 <unknown>\n#2 0x55e3a1f4080c <unknown>\n#3 0x55e3a1f40a71 <unknown>\n#4 0x55e3a1f7a734 <unknown>\n#5 0x55e3a1f60b5d <unknown>\n#6 0x55e3a1f7847c <unknown>\n#7 0x55e3a1f60903 <unknown>\n#8 0x55e3a1f33ece <unknown>\n#9 0x55e3a1f34fde <unknown>\n#10 0x55e3a219563e <unknown>\n#11 0x55e3a2198b79 <unknown>\n#12 0x55e3a217b89e <unknown>\n#13 0x55e3a2199a83 <unknown>\n#14 0x55e3a216e505 <unknown>\n#15 0x55e3a21baca8 <unknown>\n#16 0x55e3a21bae36 <unknown>\n#17 0x55e3a21d6333 <unknown>\n#18 0x7f9521f7a609 start_thread\n"
     ]
    }
   ],
   "source": [
    "# define 'driver' variable\n",
    "driver = webdriver.Chrome(path)\n",
    "driver.maximize_window()\n",
    "# open Google Chrome with chromedriver\n",
    "driver.get(website)\n",
    "\n",
    "usuario = driver.find_element(By.ID, \"dropdownLogin\")\n",
    "\n",
    "#usuario = driver.find_element_by_id(\"identifierId\")\n",
    "time.sleep(5)\n",
    "#usuario.send_keys(\"eventosjcv2014@gmail.com\")\n",
    "usuario.send_keys(Keys.ENTER)\n",
    "username = driver.find_element(By.ID, \"userName\")\n",
    "username.send_keys(\"\") \n",
    "passwordd = driver.find_element(By.ID, \"password\")\n",
    "passwordd.send_keys(\"\") \n",
    "iniciase = driver.find_element(By.ID, \"btnLoginPrimary\").click()\n",
    "\n",
    "time.sleep(3)\n",
    "# Open a new tab\n",
    "driver.execute_script(\"window.open('');\")\n",
    "\n",
    "# Switch to the new tab\n",
    "driver.switch_to.window(driver.window_handles[1])\n",
    "\n",
    "# Navigate to YouTube\n",
    "driver.get('https://betplay.com.co/slots/launchGame?gameCode=SPB_aviator&flashClient=true&additionalParam=&integrationChannelCode=PARIPLAY')\n",
    "\n",
    "btnnum = driver.find_element(By.CLASS_NAME,\"dropdown-toggle button\").click()\n"
   ]
  },
  {
   "cell_type": "code",
   "execution_count": null,
   "id": "070eb213",
   "metadata": {},
   "outputs": [],
   "source": [
    "btnnum = driver.find_element(By.CLASS_NAME, \"stats show dropdown\").click()    \n",
    "btnnum = driver.find_element(By.CLASS_NAME, \"dropdown-toggle\").click()\n",
    "\n",
    "\n",
    "/html/body/app-root/app-game/div/div[1]/div[2]/div/div[2]/div[1]/app-stats-widget/div/div[1]/divclass=\"dropdown-toggle button\"\n",
    "\n",
    "class=\"dropdown-toggle button\"\n",
    "\n",
    "fruits = driver.find_element(By.ID, \"fruits\")\n",
    "fruit = fruits.find_element(By.CLASS_NAME,\"tomatoes\")10506925137894561230Ju"
   ]
  },
  {
   "cell_type": "code",
   "execution_count": null,
   "id": "98643c44",
   "metadata": {},
   "outputs": [],
   "source": [
    "# Open a new tab\n",
    "driver.execute_script(\"window.open('');\")\n",
    "\n",
    "# Switch to the new tab\n",
    "driver.switch_to.window(driver.window_handles[1])\n",
    "\n",
    "# Navigate to YouTube\n",
    "driver.get('https://www.youtube.com/')\n",
    "\n",
    "body > app-root > app-game > div > div.main-container > div.w-100.h-100 > div > div.game-play > div.result-history.disabled-on-game-focused > app-stats-widget > div > div.button-block > div\n"
   ]
  }
 ],
 "metadata": {
  "kernelspec": {
   "display_name": "Python 3 (ipykernel)",
   "language": "python",
   "name": "python3"
  },
  "language_info": {
   "codemirror_mode": {
    "name": "ipython",
    "version": 3
   },
   "file_extension": ".py",
   "mimetype": "text/x-python",
   "name": "python",
   "nbconvert_exporter": "python",
   "pygments_lexer": "ipython3",
   "version": "3.9.12"
  }
 },
 "nbformat": 4,
 "nbformat_minor": 5
}
