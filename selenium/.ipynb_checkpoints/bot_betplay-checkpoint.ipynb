{
 "cells": [
  {
   "cell_type": "code",
   "execution_count": 1,
   "id": "b11bd95b",
   "metadata": {},
   "outputs": [],
   "source": [
    "from selenium import webdriver\n",
    "from selenium.webdriver.common.keys import Keys\n",
    "import time\n"
   ]
  },
  {
   "cell_type": "code",
   "execution_count": null,
   "id": "3fe8dfa3",
   "metadata": {},
   "outputs": [],
   "source": [
    "website = 'https://accounts.google.com/v3/signin/identifier?dsh=S-721126752%3A1673034490394040&authuser=0&continue=https%3A%2F%2Fmail.google.com&ec=GAlAFw&hl=es-419&service=mail&flowName=GlifWebSignIn&flowEntry=AddSession'\n",
    "path = 'chromedriver_linux64/chromedriver' "
   ]
  }
 ],
 "metadata": {
  "kernelspec": {
   "display_name": "Python 3 (ipykernel)",
   "language": "python",
   "name": "python3"
  },
  "language_info": {
   "codemirror_mode": {
    "name": "ipython",
    "version": 3
   },
   "file_extension": ".py",
   "mimetype": "text/x-python",
   "name": "python",
   "nbconvert_exporter": "python",
   "pygments_lexer": "ipython3",
   "version": "3.9.12"
  }
 },
 "nbformat": 4,
 "nbformat_minor": 5
}
