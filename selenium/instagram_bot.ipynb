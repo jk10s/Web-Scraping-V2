{
 "cells": [
  {
   "cell_type": "code",
   "execution_count": 1,
   "id": "2674367b",
   "metadata": {},
   "outputs": [],
   "source": [
    "# This Python file uses the following encoding: utf-8\n",
    "\n",
    "from setuptools import setup\n",
    "from os import path\n",
    "\n",
    "# io.open is needed for projects that support Python 2.7\n",
    "# It ensures open() defaults to text mode with universal newlines,\n",
    "# and accepts an argument to specify the text encoding\n",
    "# Python 3 only projects can skip this import and use built-in open()\n",
    "from io import open as io_open\n",
    "import re"
   ]
  },
  {
   "cell_type": "code",
   "execution_count": null,
   "id": "0dc94656",
   "metadata": {},
   "outputs": [],
   "source": []
  }
 ],
 "metadata": {
  "kernelspec": {
   "display_name": "Python 3 (ipykernel)",
   "language": "python",
   "name": "python3"
  },
  "language_info": {
   "codemirror_mode": {
    "name": "ipython",
    "version": 3
   },
   "file_extension": ".py",
   "mimetype": "text/x-python",
   "name": "python",
   "nbconvert_exporter": "python",
   "pygments_lexer": "ipython3",
   "version": "3.9.12"
  }
 },
 "nbformat": 4,
 "nbformat_minor": 5
}
