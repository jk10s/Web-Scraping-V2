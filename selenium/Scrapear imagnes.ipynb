{
 "cells": [
  {
   "cell_type": "code",
   "execution_count": 29,
   "id": "eafce934",
   "metadata": {},
   "outputs": [],
   "source": [
    "from selenium import webdriver\n",
    "from selenium.webdriver.common.by import By\n",
    "from selenium.webdriver.common.keys import Keys\n",
    "import time\n",
    "import requests\n",
    "website = 'https://www.casadellibro.com/libros-mas-vendidos'\n",
    "path = 'chromedriver_linux64/chromedriver' "
   ]
  },
  {
   "cell_type": "code",
   "execution_count": 30,
   "id": "e731d0c9",
   "metadata": {},
   "outputs": [
    {
     "name": "stderr",
     "output_type": "stream",
     "text": [
      "/tmp/ipykernel_89983/4229825853.py:2: DeprecationWarning: executable_path has been deprecated, please pass in a Service object\n",
      "  driver = webdriver.Chrome(path)\n"
     ]
    },
    {
     "ename": "TypeError",
     "evalue": "'WebElement' object is not iterable",
     "output_type": "error",
     "traceback": [
      "\u001b[0;31m---------------------------------------------------------------------------\u001b[0m",
      "\u001b[0;31mTypeError\u001b[0m                                 Traceback (most recent call last)",
      "Input \u001b[0;32mIn [30]\u001b[0m, in \u001b[0;36m<cell line: 10>\u001b[0;34m()\u001b[0m\n\u001b[1;32m      7\u001b[0m \u001b[38;5;66;03m#enlaces =  driver.find_elements_by_xpath('.//img[@class=\"product-img cdl-image\"]')\u001b[39;00m\n\u001b[1;32m      8\u001b[0m enlaces \u001b[38;5;241m=\u001b[39m driver\u001b[38;5;241m.\u001b[39mfind_element(\u001b[38;5;124m\"\u001b[39m\u001b[38;5;124mxpath\u001b[39m\u001b[38;5;124m\"\u001b[39m, \u001b[38;5;124m'\u001b[39m\u001b[38;5;124m.//img[@class=\u001b[39m\u001b[38;5;124m\"\u001b[39m\u001b[38;5;124mcdl-image\u001b[39m\u001b[38;5;124m\"\u001b[39m\u001b[38;5;124m]\u001b[39m\u001b[38;5;124m'\u001b[39m)\n\u001b[0;32m---> 10\u001b[0m \u001b[38;5;28;01mfor\u001b[39;00m enlace \u001b[38;5;129;01min\u001b[39;00m enlaces:\n\u001b[1;32m     11\u001b[0m     link \u001b[38;5;241m=\u001b[39m enlace\u001b[38;5;241m.\u001b[39mget_attribute(\u001b[38;5;124m'\u001b[39m\u001b[38;5;124msrc\u001b[39m\u001b[38;5;124m'\u001b[39m)\n\u001b[1;32m     12\u001b[0m     imagenlibro \u001b[38;5;241m=\u001b[39m requests\u001b[38;5;241m.\u001b[39mget(link)\n",
      "\u001b[0;31mTypeError\u001b[0m: 'WebElement' object is not iterable"
     ]
    }
   ],
   "source": [
    "# define 'driver' variable\n",
    "driver = webdriver.Chrome(path)\n",
    "driver.maximize_window()\n",
    "# open Google Chrome with chromedriver\n",
    "driver.get(website)\n",
    "i=0\n",
    "#enlaces =  driver.find_elements_by_xpath('.//img[@class=\"product-img cdl-image\"]')\n",
    "enlaces = driver.find_element(\"xpath\", './/img[@class=\"cdl-image\"]')\n",
    "\n",
    "for enlace in enlaces:\n",
    "    link = enlace.get_attribute('src')\n",
    "    imagenlibro = requests.get(link)\n",
    "    if imagenlibro.status_code == 200:\n",
    "        print(link)\n",
    "        i*=1\n",
    "        nombreImagen = 'Libro'+str(i)+'.jpg'\n",
    "        with open(nombreImagen, 'wb') as img:\n",
    "            img.write(nombreImagen.content)"
   ]
  },
  {
   "cell_type": "code",
   "execution_count": null,
   "id": "504f1931",
   "metadata": {},
   "outputs": [],
   "source": [
    "username_input = driver.find_element(By.XPATH, '//form[@class=\"sso-login-form\"]//*[@id=\"Username\"]')\n"
   ]
  },
  {
   "cell_type": "code",
   "execution_count": null,
   "id": "bab13ba7",
   "metadata": {},
   "outputs": [],
   "source": [
    "enlaces =  driver.find_elements_by_xpath('.//img[@class=\"cdl-image\"]')\n",
    "for enlace in enlaces:\n",
    "    link = enlace.get_attribute('src')\n",
    "    imagenlibro = requests.get(link)\n",
    "    if imagenlibro.status_code == 200:\n",
    "        print(link)\n",
    "        i*=1\n",
    "        nombreImagen = 'Libro'*str(i)*'.jpg'\n",
    "        with open (nombreImagen.content)"
   ]
  }
 ],
 "metadata": {
  "kernelspec": {
   "display_name": "Python 3 (ipykernel)",
   "language": "python",
   "name": "python3"
  },
  "language_info": {
   "codemirror_mode": {
    "name": "ipython",
    "version": 3
   },
   "file_extension": ".py",
   "mimetype": "text/x-python",
   "name": "python",
   "nbconvert_exporter": "python",
   "pygments_lexer": "ipython3",
   "version": "3.9.12"
  }
 },
 "nbformat": 4,
 "nbformat_minor": 5
}
